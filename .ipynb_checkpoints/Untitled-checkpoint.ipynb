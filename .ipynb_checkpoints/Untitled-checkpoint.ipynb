{
 "cells": [
  {
   "cell_type": "code",
   "execution_count": 2,
   "id": "d232c585",
   "metadata": {},
   "outputs": [],
   "source": [
    "import tensorflow as tf\n",
    "import numpy as np\n",
    "import cv2\n",
    "import random"
   ]
  },
  {
   "cell_type": "code",
   "execution_count": 3,
   "id": "91add923",
   "metadata": {},
   "outputs": [],
   "source": [
    "def setParams(ss,args):\n",
    "    if args[\"method\"] == \"fast\":\n",
    "        print(\"[INFO] using *fast* selective search\")\n",
    "        ss.switchToSelectiveSearchFast()\n",
    "    else:\n",
    "        print(\"[INFO] using *quality* selective search\")\n",
    "        ss.switchToSelectiveSearchQuality()"
   ]
  },
  {
   "cell_type": "code",
   "execution_count": 4,
   "id": "f5899593",
   "metadata": {},
   "outputs": [
    {
     "name": "stdout",
     "output_type": "stream",
     "text": [
      "[INFO] using *quality* selective search\n"
     ]
    }
   ],
   "source": [
    "args={\"method\":\"Quality\"}\n",
    "image = cv2.imread(\"cars.jpg\")\n",
    "ss = cv2.ximgproc.segmentation.createSelectiveSearchSegmentation()\n",
    "ss.setBaseImage(image)\n",
    "setParams(ss,args)"
   ]
  },
  {
   "cell_type": "code",
   "execution_count": 5,
   "id": "d3dd7bcd",
   "metadata": {},
   "outputs": [
    {
     "name": "stdout",
     "output_type": "stream",
     "text": [
      "Requirement already satisfied: opencv-contrib-python in c:\\users\\user\\appdata\\roaming\\python\\python39\\site-packages (4.5.5.62)\n",
      "Requirement already satisfied: numpy>=1.19.3 in c:\\users\\user\\anaconda3\\lib\\site-packages (from opencv-contrib-python) (1.20.3)\n"
     ]
    }
   ],
   "source": [
    "!pip install --user opencv-contrib-python"
   ]
  },
  {
   "cell_type": "code",
   "execution_count": 6,
   "id": "ad743fec",
   "metadata": {},
   "outputs": [],
   "source": [
    "rects = ss.process()\n",
    "output = image.copy()\n",
    "for i in range(0, len(rects), 100):\n",
    "\t# clone the original image so we can draw on it\n",
    "\t\n",
    "\t# loop over the current subset of region proposals\n",
    "\tfor (x, y, w, h) in rects[i:i + 100]:\n",
    "\t\t# draw the region proposal bounding box on the image\n",
    "\t\tcolor = [random.randint(0, 255) for j in range(0, 3)]\n",
    "\t\tcv2.rectangle(output, (x, y), (x + w, y + h), color, 2)\n",
    "\t# show the output image\n",
    "cv2.imshow(\"Output\", output)\n",
    "key = cv2.waitKey(0)\n",
    "\t# if the `q` key was pressed, break from the loop\n",
    "if key == ord(\"q\"):\n",
    "\tbreak"
   ]
  },
  {
   "cell_type": "code",
   "execution_count": null,
   "id": "f1b30ac8",
   "metadata": {},
   "outputs": [],
   "source": []
  },
  {
   "cell_type": "code",
   "execution_count": null,
   "id": "8565c1b7",
   "metadata": {},
   "outputs": [],
   "source": []
  }
 ],
 "metadata": {
  "kernelspec": {
   "display_name": "Python 3 (ipykernel)",
   "language": "python",
   "name": "python3"
  },
  "language_info": {
   "codemirror_mode": {
    "name": "ipython",
    "version": 3
   },
   "file_extension": ".py",
   "mimetype": "text/x-python",
   "name": "python",
   "nbconvert_exporter": "python",
   "pygments_lexer": "ipython3",
   "version": "3.9.7"
  }
 },
 "nbformat": 4,
 "nbformat_minor": 5
}
